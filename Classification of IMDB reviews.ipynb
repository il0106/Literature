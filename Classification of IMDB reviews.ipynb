{
 "cells": [
  {
   "cell_type": "code",
   "execution_count": 1,
   "id": "56bad684",
   "metadata": {},
   "outputs": [
    {
     "name": "stderr",
     "output_type": "stream",
     "text": [
      "<__array_function__ internals>:5: VisibleDeprecationWarning: Creating an ndarray from ragged nested sequences (which is a list-or-tuple of lists-or-tuples-or ndarrays with different lengths or shapes) is deprecated. If you meant to do this, you must specify 'dtype=object' when creating the ndarray.\n",
      "C:\\PROGRAMMS\\PYTHON\\lib\\site-packages\\tensorflow\\python\\keras\\datasets\\imdb.py:159: VisibleDeprecationWarning: Creating an ndarray from ragged nested sequences (which is a list-or-tuple of lists-or-tuples-or ndarrays with different lengths or shapes) is deprecated. If you meant to do this, you must specify 'dtype=object' when creating the ndarray.\n",
      "  x_train, y_train = np.array(xs[:idx]), np.array(labels[:idx])\n",
      "C:\\PROGRAMMS\\PYTHON\\lib\\site-packages\\tensorflow\\python\\keras\\datasets\\imdb.py:160: VisibleDeprecationWarning: Creating an ndarray from ragged nested sequences (which is a list-or-tuple of lists-or-tuples-or ndarrays with different lengths or shapes) is deprecated. If you meant to do this, you must specify 'dtype=object' when creating the ndarray.\n",
      "  x_test, y_test = np.array(xs[idx:]), np.array(labels[idx:])\n"
     ]
    },
    {
     "name": "stdout",
     "output_type": "stream",
     "text": [
      "Epoch 1/20\n",
      "30/30 [==============================] - 4s 128ms/step - loss: 0.5856 - acc: 0.7555 - val_loss: 0.4776 - val_acc: 0.8317\n",
      "Epoch 2/20\n",
      "30/30 [==============================] - 1s 39ms/step - loss: 0.4228 - acc: 0.8403 - val_loss: 0.3932 - val_acc: 0.8403\n",
      "Epoch 3/20\n",
      "30/30 [==============================] - 1s 32ms/step - loss: 0.3571 - acc: 0.8602 - val_loss: 0.3585 - val_acc: 0.8502\n",
      "Epoch 4/20\n",
      "30/30 [==============================] - 1s 26ms/step - loss: 0.3309 - acc: 0.8659 - val_loss: 0.3388 - val_acc: 0.8580\n",
      "Epoch 5/20\n",
      "30/30 [==============================] - 1s 30ms/step - loss: 0.3163 - acc: 0.8704 - val_loss: 0.3433 - val_acc: 0.8562\n",
      "Epoch 6/20\n",
      "30/30 [==============================] - 1s 25ms/step - loss: 0.3050 - acc: 0.8755 - val_loss: 0.3419 - val_acc: 0.8577\n",
      "Epoch 7/20\n",
      "30/30 [==============================] - 1s 29ms/step - loss: 0.3004 - acc: 0.8769 - val_loss: 0.3809 - val_acc: 0.8420\n",
      "Epoch 8/20\n",
      "30/30 [==============================] - 1s 31ms/step - loss: 0.3001 - acc: 0.8780 - val_loss: 0.3364 - val_acc: 0.8611\n",
      "Epoch 9/20\n",
      "30/30 [==============================] - 1s 31ms/step - loss: 0.2944 - acc: 0.8789 - val_loss: 0.3398 - val_acc: 0.8595\n",
      "Epoch 10/20\n",
      "30/30 [==============================] - 1s 26ms/step - loss: 0.2904 - acc: 0.8807 - val_loss: 0.3575 - val_acc: 0.8482\n",
      "Epoch 11/20\n",
      "30/30 [==============================] - 1s 26ms/step - loss: 0.2931 - acc: 0.8808 - val_loss: 0.3396 - val_acc: 0.8599\n",
      "Epoch 12/20\n",
      "30/30 [==============================] - 1s 28ms/step - loss: 0.2822 - acc: 0.8845 - val_loss: 0.3504 - val_acc: 0.8526\n",
      "Epoch 13/20\n",
      "30/30 [==============================] - 1s 30ms/step - loss: 0.2843 - acc: 0.8818 - val_loss: 0.3474 - val_acc: 0.8603\n",
      "Epoch 14/20\n",
      "30/30 [==============================] - 1s 26ms/step - loss: 0.2823 - acc: 0.8841 - val_loss: 0.3451 - val_acc: 0.8613\n",
      "Epoch 15/20\n",
      "30/30 [==============================] - 1s 33ms/step - loss: 0.2769 - acc: 0.8871 - val_loss: 0.3520 - val_acc: 0.8581\n",
      "Epoch 16/20\n",
      "30/30 [==============================] - 1s 25ms/step - loss: 0.2763 - acc: 0.8855 - val_loss: 0.3496 - val_acc: 0.8545\n",
      "Epoch 17/20\n",
      "30/30 [==============================] - 1s 27ms/step - loss: 0.2695 - acc: 0.8896 - val_loss: 0.3467 - val_acc: 0.8577\n",
      "Epoch 18/20\n",
      "30/30 [==============================] - 1s 42ms/step - loss: 0.2688 - acc: 0.8873 - val_loss: 0.3530 - val_acc: 0.8524\n",
      "Epoch 19/20\n",
      "30/30 [==============================] - 1s 35ms/step - loss: 0.2604 - acc: 0.8933 - val_loss: 0.3532 - val_acc: 0.8575\n",
      "Epoch 20/20\n",
      "30/30 [==============================] - 1s 32ms/step - loss: 0.2602 - acc: 0.8911 - val_loss: 0.3521 - val_acc: 0.8551\n"
     ]
    }
   ],
   "source": [
    "from keras.datasets import imdb\n",
    "import numpy as np\n",
    "\n",
    "(train_data, train_labels), (test_data, test_labels) = imdb.load_data(num_words=1000)\n",
    "\n",
    "\n",
    "# прямое кодирование списков в векторы нулей и единиц. Это может\n",
    "# означать, например, преобразование последовательности [3, 5] в 10 000-мерный\n",
    "# вектор, все элементы которого содержат нули, кроме элементов с индексами\n",
    "# 3 и 5, которые содержат единицы\n",
    "\n",
    "def vectorize_sequences(sequences, dimension=10000):\n",
    "    results = np.zeros((len(sequences), dimension))\n",
    "    for i, sequence in enumerate(sequences):\n",
    "        results[i, sequence] = 1  # Запись единицы в элемент с данным индексом\n",
    "    return results\n",
    "\n",
    "\n",
    "# Входные данные в нейросети должны быть векторами\n",
    "x_train = vectorize_sequences(train_data)\n",
    "x_test = vectorize_sequences(test_data)\n",
    "y_train = np.asarray(train_labels).astype('float32')  # векторизировать метки проще\n",
    "y_test = np.asarray(test_labels).astype('float32')\n",
    "\n",
    "# Входные данные представлены векторами, а метки — скалярами (единицами и ну\u0002лями): это самый простой набор данных, какой можно встретить. С задачами этого\n",
    "# вида прекрасно справляются сети, организованные как простой стек полносвязных\n",
    "# (Dense) слоев с операцией активации relu: Dense(16, activation='relu')\n",
    "\n",
    "from keras import models\n",
    "from keras import layers\n",
    "\n",
    "# Создание модели\n",
    "model = models.Sequential()\n",
    "model.add(layers.Dense(16, activation='relu', input_shape=(10000,)))\n",
    "model.add(layers.Dense(16, activation='relu'))\n",
    "model.add(layers.Dense(1, activation='sigmoid'))\n",
    "\n",
    "#Создание проверочного набора\n",
    "x_val = x_train[:10000]\n",
    "partial_x_train = x_train[10000:]\n",
    "y_val = y_train[:10000]\n",
    "partial_y_train = y_train[10000:]\n",
    "\n",
    "#обучение модели\n",
    "model.compile(optimizer='rmsprop',\n",
    "              loss='binary_crossentropy', # функция потерь\n",
    "              metrics=['acc']) # отслеживаемая метрика\n",
    "history = model.fit(partial_x_train,\n",
    "             partial_y_train,\n",
    "             epochs=20,\n",
    "             batch_size=512,\n",
    "             validation_data=(x_val, y_val))\n",
    "\n"
   ]
  },
  {
   "cell_type": "markdown",
   "id": "3311aa95",
   "metadata": {},
   "source": [
    "Обратите внимание на то, что вызов model.fit() возвращает объект History. \n",
    "Этот объект имеет поле history — словарь с данными обо всем происходившем \n",
    "в процессе обучения. Заглянем в него:"
   ]
  },
  {
   "cell_type": "code",
   "execution_count": 2,
   "id": "13100ebf",
   "metadata": {},
   "outputs": [
    {
     "data": {
      "text/plain": [
       "dict_keys(['loss', 'acc', 'val_loss', 'val_acc'])"
      ]
     },
     "execution_count": 2,
     "metadata": {},
     "output_type": "execute_result"
    }
   ],
   "source": [
    "history_dict = history.history\n",
    "history_dict.keys()\n",
    "# Словарь содержит по одному элементу на метрику"
   ]
  },
  {
   "cell_type": "code",
   "execution_count": 5,
   "id": "3e33b8d7",
   "metadata": {},
   "outputs": [
    {
     "data": {
      "text/plain": [
       "<matplotlib.legend.Legend at 0x14fefb2c280>"
      ]
     },
     "execution_count": 5,
     "metadata": {},
     "output_type": "execute_result"
    },
    {
     "data": {
      "image/png": "[encoded data removed]",
      "text/plain": [
       "<Figure size 432x288 with 1 Axes>"
      ]
     },
     "metadata": {
      "needs_background": "light"
     },
     "output_type": "display_data"
    }
   ],
   "source": [
    "import matplotlib.pyplot as plt\n",
    "\n",
    "loss_values = history_dict['loss']\n",
    "val_loss_values = history_dict['val_loss']\n",
    "epochs = range(1, len(history_dict['acc']) + 1)\n",
    "\n",
    "plt.plot(epochs, loss_values, 'bo', label='Training loss') # bo - blue dot\n",
    "plt.plot(epochs, val_loss_values, 'b', label='Validation loss') # b-solid blue line\n",
    "\n",
    "plt.title('Training and validation loss')\n",
    "plt.xlabel('Epochs')\n",
    "plt.ylabel('Loss')\n",
    "plt.legend()"
   ]
  },
  {
   "cell_type": "markdown",
   "id": "764dc089",
   "metadata": {},
   "source": [
    "Формирование графиков точности на этапах обучения и проверки:"
   ]
  },
  {
   "cell_type": "code",
   "execution_count": 18,
   "id": "6d691a78",
   "metadata": {},
   "outputs": [
    {
     "data": {
      "image/png": "[encoded data removed]",
      "text/plain": [
       "<Figure size 432x288 with 1 Axes>"
      ]
     },
     "metadata": {
      "needs_background": "light"
     },
     "output_type": "display_data"
    }
   ],
   "source": [
    "plt.clf() #Очистить рисунок\n",
    "\n",
    "acc_values = history_dict['acc']\n",
    "val_acc = history_dict['val_acc']\n",
    "\n",
    "plt.plot(epochs, acc_values , 'bo', label='Training acc')\n",
    "plt.plot(epochs, val_acc, 'b', label='Validation acc')\n",
    "\n",
    "plt.title('Training and validation accuracy')\n",
    "plt.xlabel('Epochs')\n",
    "plt.ylabel('Accuracy')\n",
    "plt.legend()\n",
    "plt.show()\n",
    "# Видно, что после 4 эпохи наблюдается переобучение"
   ]
  },
  {
   "cell_type": "code",
   "execution_count": 19,
   "id": "f3db7e2b",
   "metadata": {},
   "outputs": [
    {
     "name": "stdout",
     "output_type": "stream",
     "text": [
      "Epoch 1/4\n",
      "49/49 [==============================] - 1s 26ms/step - loss: 0.5312 - accuracy: 0.7901\n",
      "Epoch 2/4\n",
      "49/49 [==============================] - 1s 17ms/step - loss: 0.3748 - accuracy: 0.8537\n",
      "Epoch 3/4\n",
      "49/49 [==============================] - 1s 16ms/step - loss: 0.3303 - accuracy: 0.8636\n",
      "Epoch 4/4\n",
      "49/49 [==============================] - 1s 16ms/step - loss: 0.3169 - accuracy: 0.8689\n",
      "782/782 [==============================] - 2s 3ms/step - loss: 0.3382 - accuracy: 0.8570\n"
     ]
    },
    {
     "data": {
      "text/plain": [
       "[0.33821752667427063, 0.8569999933242798]"
      ]
     },
     "execution_count": 19,
     "metadata": {},
     "output_type": "execute_result"
    }
   ],
   "source": [
    "# Прошлая сеть для сравнения:\n",
    "'''\n",
    "model.compile(optimizer='rmsprop',\n",
    "              loss='binary_crossentropy', # функция потерь\n",
    "              metrics=['acc']) # отслеживаемая метрика\n",
    "history = model.fit(partial_x_train,\n",
    "             partial_y_train,\n",
    "             epochs=20,\n",
    "             batch_size=512,\n",
    "             validation_data=(x_val, y_val))\n",
    "'''\n",
    "\n",
    "# Обучение новой модели с нуля\n",
    "model = models.Sequential()\n",
    "model.add(layers.Dense(16, activation='relu', input_shape=(10000,)))\n",
    "model.add(layers.Dense(16, activation='relu'))\n",
    "model.add(layers.Dense(1, activation='sigmoid'))\n",
    "model.compile(optimizer='rmsprop',\n",
    "             loss='binary_crossentropy',\n",
    "             metrics=['accuracy'])\n",
    "model.fit(x_train, y_train, epochs=4, batch_size=512)\n",
    "results = model.evaluate(x_test, y_test)\n",
    "results"
   ]
  },
  {
   "cell_type": "markdown",
   "id": "d1cd4511",
   "metadata": {},
   "source": [
    "ПРЕДСКАЗАНИЯ: "
   ]
  },
  {
   "cell_type": "code",
   "execution_count": 20,
   "id": "b92313b4",
   "metadata": {},
   "outputs": [
    {
     "data": {
      "text/plain": [
       "array([[0.40458363],\n",
       "       [0.9949441 ],\n",
       "       [0.6961224 ],\n",
       "       ...,\n",
       "       [0.12660018],\n",
       "       [0.15312487],\n",
       "       [0.49670088]], dtype=float32)"
      ]
     },
     "execution_count": 20,
     "metadata": {},
     "output_type": "execute_result"
    }
   ],
   "source": [
    "model.predict(x_test)"
   ]
  }
 ],
 "metadata": {
  "kernelspec": {
   "display_name": "Python 3 (ipykernel)",
   "language": "python",
   "name": "python3"
  },
  "language_info": {
   "codemirror_mode": {
    "name": "ipython",
    "version": 3
   },
   "file_extension": ".py",
   "mimetype": "text/x-python",
   "name": "python",
   "nbconvert_exporter": "python",
   "pygments_lexer": "ipython3",
   "version": "3.8.10"
  }
 },
 "nbformat": 4,
 "nbformat_minor": 5
}
